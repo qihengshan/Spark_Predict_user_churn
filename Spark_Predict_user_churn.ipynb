{
 "cells": [
  {
   "cell_type": "markdown",
   "metadata": {},
   "source": [
    "# Spark-MLlib-音乐类服务用户流失预测\n",
    "\n",
    "**项目概述**\n",
    "\n",
    "针对音乐类服务的用户的行为数据，使用spark进行建模分析，预测哪些用户可能流失、哪些用户会降级服务(从付费到免费)，或者这取消服务。如果能预测出这些用户，通过打折已激励的方式留住他们，以挽救数百万的营业额。\n",
    "\n",
    "本次使用一个迷你的子数据集（128MB），是完整数据集（12GB）的一个子集。\n",
    "\n",
    "**问题描述**\n",
    "\n",
    "* 使用的数据集较小，存在样本数不足的可能\n",
    "* 数据需要汇总、清理、探索、特征提取\n",
    "* 建模前需要归一化数据\n",
    "\n",
    "**评估指标**\n",
    "\n",
    "* 准确率Accuracy\n",
    "* F1值\n",
    "\n",
    "**用户流失指标定义**\n",
    "\n",
    "其中事件：Cancellation Confirmation 定义为用户流失(用户取消服务)事件，也是本次预测的label值, 1 代表取消服务，0 代表为取消服务。\n",
    "\n",
    "**主要步骤如下**\n",
    "\n",
    "1. 清理数据\n",
    "2. 探索数据\n",
    "    * 探索如下特征对用户是否取消服务的影响\n",
    "        * 用户点赞、踩\n",
    "        * 添加好友\n",
    "        * 添加歌曲\n",
    "        * 听歌频率\n",
    "        * 设置功能\n",
    "        * 使用设备\n",
    "        * 注册时长\n",
    "        * 升级、降级\n",
    "        * 访问Home、About、Help次数\n",
    "        * Error次数\n",
    "        * 查看滚动广告的次数\n",
    "3. 特征工程\n",
    "    * 统计用户访问page页全量行为数据\n",
    "    * 计算用户注册时长(单位：天)、经常使用设备类型\n",
    "    * 探索获取用户流失最多的时段(子集)，统计这个时段内的用户行为数据\n",
    "    * 计算子集对应page访问行为相对于总page访问行为占比\n",
    "    * 标准化数据\n",
    "    * one-hot\n",
    "4. 建模\n",
    "    * 使用GBTClassifier 梯度提升决策树 建模预测\n",
    "    * 参数使用默认参数\n",
    "    * 评估指标 Accuracy、F1-Score"
   ]
  },
  {
   "cell_type": "code",
   "execution_count": 1,
   "metadata": {},
   "outputs": [],
   "source": [
    "# import libraries\n",
    "from pyspark.sql import SparkSession\n",
    "from pyspark.sql import Row\n",
    "\n",
    "from pyspark.sql.functions import avg, col, isnan, concat,count, desc, \\\n",
    "            explode, lit, sum, min, max, split, stddev, udf, \\\n",
    "            to_timestamp, date_sub\n",
    "from pyspark.sql.types import IntegerType, StringType, LongType, DateType, DoubleType\n",
    "\n",
    "from pyspark.ml import Pipeline\n",
    "from pyspark.ml.classification import LogisticRegression\n",
    "from pyspark.ml.evaluation import MulticlassClassificationEvaluator\n",
    "\n",
    "from pyspark.ml.feature import MinMaxScaler, VectorAssembler\n",
    "from pyspark.ml.feature import CountVectorizer, IDF, Normalizer, PCA\n",
    "from pyspark.ml.feature import RegexTokenizer, StandardScaler, StopWordsRemover, StringIndexer, VectorAssembler\n",
    "from pyspark.ml.regression import LinearRegression\n",
    "from pyspark.ml.classification import LogisticRegression\n",
    "from pyspark.ml.tuning import CrossValidator, ParamGridBuilder\n",
    "\n",
    "import numpy as np\n",
    "import pandas as pd\n",
    "import matplotlib.pyplot as plt\n",
    "import seaborn as sns\n",
    "%matplotlib inline\n",
    "\n",
    "import re\n",
    "import datetime\n",
    "# first pip install device_detector analyze userAgent\n",
    "from device_detector import DeviceDetector\n",
    "# first pip install httpagentparser\n",
    "import httpagentparser\n"
   ]
  },
  {
   "cell_type": "code",
   "execution_count": 2,
   "metadata": {},
   "outputs": [],
   "source": [
    "# create a Spark session\n",
    "spark = SparkSession.builder \\\n",
    "            .appName('predict_user_loss') \\\n",
    "            .getOrCreate()"
   ]
  },
  {
   "cell_type": "code",
   "execution_count": 3,
   "metadata": {},
   "outputs": [
    {
     "data": {
      "text/html": [
       "\n",
       "            <div>\n",
       "                <p><b>SparkSession - in-memory</b></p>\n",
       "                \n",
       "        <div>\n",
       "            <p><b>SparkContext</b></p>\n",
       "\n",
       "            <p><a href=\"http://192.168.1.6:4040\">Spark UI</a></p>\n",
       "\n",
       "            <dl>\n",
       "              <dt>Version</dt>\n",
       "                <dd><code>v2.4.4</code></dd>\n",
       "              <dt>Master</dt>\n",
       "                <dd><code>local[*]</code></dd>\n",
       "              <dt>AppName</dt>\n",
       "                <dd><code>predict_user_loss</code></dd>\n",
       "            </dl>\n",
       "        </div>\n",
       "        \n",
       "            </div>\n",
       "        "
      ],
      "text/plain": [
       "<pyspark.sql.session.SparkSession at 0x11c20e610>"
      ]
     },
     "execution_count": 3,
     "metadata": {},
     "output_type": "execute_result"
    }
   ],
   "source": [
    "# show config info\n",
    "spark.sparkContext.getConf().getAll()\n",
    "spark"
   ]
  },
  {
   "cell_type": "markdown",
   "metadata": {},
   "source": [
    "# 加载和清洗数据\n",
    " \n",
    "1. 统计每个列null统计、并删除firstName为空的8346行数据\n",
    "    * (firstName, lastName, location, registration, userAgent) null值都是 8346行，对应的page为：Logout 、Submit Registration、Login、Register，所以可以删除这些行\n",
    "2. 删除2列: artist、song\n",
    "    * 列artist、song列空值58392个，这是正常情况，因为用户浏览Home/About等列没有歌曲名和歌曲作者，这两行不参与建模\n",
    "3. timestamp列格式转换\n",
    "    * 涉及列：ts, registration\n",
    "3. 根据userAgent列生成 设备信息列 值为：(设备、浏览器、系统类型)\n"
   ]
  },
  {
   "cell_type": "code",
   "execution_count": 4,
   "metadata": {},
   "outputs": [],
   "source": [
    "user_log = spark.read.json('mini_sparkify_event_data.json')"
   ]
  },
  {
   "cell_type": "markdown",
   "metadata": {},
   "source": [
    "### 1. 统计每个列null统计、并删除"
   ]
  },
  {
   "cell_type": "code",
   "execution_count": 5,
   "metadata": {},
   "outputs": [
    {
     "name": "stdout",
     "output_type": "stream",
     "text": [
      "Total rows: 286500\n",
      "Total users: 226\n",
      "Total users with 'Cancellation Confirmation': 52\n"
     ]
    }
   ],
   "source": [
    "# total items/ total users/ total users with 'Cancellation Confirmation'\n",
    "print(f\"Total rows: {user_log.count()}\")\n",
    "print(f\"Total users: {user_log.select('userId').dropDuplicates().count()}\")\n",
    "print(f\"Total users with 'Cancellation Confirmation': {user_log.filter(user_log.page=='Cancellation Confirmation').select('userId').dropDuplicates().count()}\")"
   ]
  },
  {
   "cell_type": "code",
   "execution_count": 6,
   "metadata": {},
   "outputs": [
    {
     "name": "stdout",
     "output_type": "stream",
     "text": [
      "+------+----+---------+------+-------------+--------+------+-----+--------+------+----+------------+---------+-----+------+---+---------+------+\n",
      "|artist|auth|firstName|gender|itemInSession|lastName|length|level|location|method|page|registration|sessionId| song|status| ts|userAgent|userId|\n",
      "+------+----+---------+------+-------------+--------+------+-----+--------+------+----+------------+---------+-----+------+---+---------+------+\n",
      "| 58392|   0|     8346|  8346|            0|    8346| 58392|    0|    8346|     0|   0|        8346|        0|58392|     0|  0|     8346|     0|\n",
      "+------+----+---------+------+-------------+--------+------+-----+--------+------+----+------------+---------+-----+------+---+---------+------+\n",
      "\n"
     ]
    }
   ],
   "source": [
    "user_log.select(*(sum(col(c).isNull().cast(\"int\")).alias(c) for c in user_log.columns)).show()"
   ]
  },
  {
   "cell_type": "markdown",
   "metadata": {},
   "source": [
    "### 删除8346行数据\n",
    "\n",
    "删除的事件包括: Row(page='Submit Registration'), Row(page='Login'), Row(page='Register'),"
   ]
  },
  {
   "cell_type": "code",
   "execution_count": 7,
   "metadata": {},
   "outputs": [
    {
     "data": {
      "text/plain": [
       "278154"
      ]
     },
     "execution_count": 7,
     "metadata": {},
     "output_type": "execute_result"
    }
   ],
   "source": [
    "user_log = user_log.filter( \"firstName is not null\")\n",
    "user_log.count()"
   ]
  },
  {
   "cell_type": "markdown",
   "metadata": {},
   "source": [
    "## 删除列(artist, song)"
   ]
  },
  {
   "cell_type": "code",
   "execution_count": 8,
   "metadata": {},
   "outputs": [],
   "source": [
    "user_log = user_log.drop(*('artist', 'song'))"
   ]
  },
  {
   "cell_type": "markdown",
   "metadata": {},
   "source": [
    "### 生成设备信息列 deviceModel"
   ]
  },
  {
   "cell_type": "code",
   "execution_count": 9,
   "metadata": {},
   "outputs": [],
   "source": [
    "#get_device_model = udf(lambda ua: httpagentparser.detect(ua)['dist']['name'])\n",
    "#get_deviec_model = udf(lambda ua : DeviceDetector(ua).parse().os_name())\n",
    "def get_device_model(userAgent):\n",
    "    device = httpagentparser.detect(userAgent)\n",
    "    if \"dist\" in device.keys():\n",
    "        return device[\"dist\"][\"name\"]\n",
    "    elif \"browser\" in device.keys():\n",
    "        return device[\"browser\"][\"name\"]\n",
    "    elif \"platform\" in device.keys():\n",
    "        return device[\"platform\"][\"name\"]\n",
    "udf_get_device_model = udf(get_device_model, StringType())\n",
    "user_log = user_log.withColumn(\"deviceModel\", udf_get_device_model(user_log.userAgent))"
   ]
  },
  {
   "cell_type": "code",
   "execution_count": 10,
   "metadata": {},
   "outputs": [
    {
     "name": "stdout",
     "output_type": "stream",
     "text": [
      "root\n",
      " |-- auth: string (nullable = true)\n",
      " |-- firstName: string (nullable = true)\n",
      " |-- gender: string (nullable = true)\n",
      " |-- itemInSession: long (nullable = true)\n",
      " |-- lastName: string (nullable = true)\n",
      " |-- length: double (nullable = true)\n",
      " |-- level: string (nullable = true)\n",
      " |-- location: string (nullable = true)\n",
      " |-- method: string (nullable = true)\n",
      " |-- page: string (nullable = true)\n",
      " |-- registration: long (nullable = true)\n",
      " |-- sessionId: long (nullable = true)\n",
      " |-- status: long (nullable = true)\n",
      " |-- ts: long (nullable = true)\n",
      " |-- userAgent: string (nullable = true)\n",
      " |-- userId: string (nullable = true)\n",
      " |-- deviceModel: string (nullable = true)\n",
      "\n"
     ]
    }
   ],
   "source": [
    "user_log.printSchema()"
   ]
  },
  {
   "cell_type": "markdown",
   "metadata": {},
   "source": [
    "## timestamp to date 格式"
   ]
  },
  {
   "cell_type": "code",
   "execution_count": 11,
   "metadata": {},
   "outputs": [],
   "source": [
    "get_timestamp = udf(lambda x : datetime.datetime.fromtimestamp(x/ 1000.0).strftime(\"%Y-%m-%d %H:%M:%S\"))\n",
    "# convert ts and registration date format\n",
    "user_log = user_log.withColumn(\"ts_date\", get_timestamp(user_log.ts))\n",
    "user_log = user_log.withColumn(\"regist_date\", get_timestamp(user_log.registration))"
   ]
  },
  {
   "cell_type": "code",
   "execution_count": 12,
   "metadata": {},
   "outputs": [],
   "source": [
    "user_log.createOrReplaceTempView('user_log_table')"
   ]
  },
  {
   "cell_type": "markdown",
   "metadata": {},
   "source": [
    "# 定义客户流失\n",
    "\n",
    "创建一列 `label` 作为模型的标签。使用 `Cancellation Confirmation` 事件来定义客户流失，该事件在付费或免费客户身上都有发生。同时也可以深入了解 `Downgrade` 事件。\n",
    "\n",
    "# 探索数据\n",
    "执行一些探索性数据分析，观察留存用户和流失用户的行为。首先把这两类用户的数据聚合到一起，观察固定时间内某个特定动作出现的次数或者播放音乐的数量。\n",
    "\n",
    "### 结论\n",
    "1. 使用Setting多的用户，越不容易取消服务, 说明用户乐于使用产品\n",
    "2. 使用Ubuntu取消服务偏多、iPad使用人取消服务人相对较少\n",
    "3. 取消服务的人明显听歌数量也偏少\n",
    "4. 查看滚动广告越多的，越容易取消服务\n",
    "5. 越少的降级发生越好\n",
    "6. 点赞越少的用户，越倾向于取消服务\n",
    "7. 添加好友和添加歌曲少于20的用户，越可能取消服务\n",
    "8. 添加好友次数越少的用户，越倾向于取消服务\n",
    "\n"
   ]
  },
  {
   "cell_type": "code",
   "execution_count": 13,
   "metadata": {},
   "outputs": [],
   "source": [
    "# group by userId,page with location and deviceModel\n",
    "user_log_groupby = user_log.groupBy('userId', 'location', 'deviceModel', 'page') \\\n",
    "    .agg(count('page').alias('count_page')) \\\n",
    "    .sort('userId')\n",
    "# privot : row to column for page action\n",
    "pages = user_log_groupby.groupBy('userId', 'location', 'deviceModel') \\\n",
    "    .pivot('page').max('count_page').fillna(0)"
   ]
  },
  {
   "cell_type": "code",
   "execution_count": 14,
   "metadata": {},
   "outputs": [],
   "source": [
    "df_pages = pages.toPandas()"
   ]
  },
  {
   "cell_type": "markdown",
   "metadata": {},
   "source": [
    "### 探索Setting使用频率对 是否取消服务的影响\n",
    "\n",
    "结论\n",
    "* 使用Setting多的用户，越不容易取消服务, 说明用户乐于使用产品"
   ]
  },
  {
   "cell_type": "code",
   "execution_count": 15,
   "metadata": {},
   "outputs": [
    {
     "data": {
      "image/png": "[encoded data removed]",
      "text/plain": [
       "<Figure size 720x360 with 1 Axes>"
      ]
     },
     "metadata": {
      "needs_background": "light"
     },
     "output_type": "display_data"
    }
   ],
   "source": [
    "plt.figure(figsize=(10,5))\n",
    "cancel_type = [['0', 'o'],\n",
    "               ['1', 's']]\n",
    "for cancel, marker in cancel_type:\n",
    "    df_thumbs = df_pages[df_pages['Cancellation Confirmation'] == int(cancel)]\n",
    "    sns.regplot(data = df_thumbs, x = 'Save Settings', \n",
    "                y = 'Settings', \n",
    "                x_jitter=0.05,\n",
    "                y_jitter=0.05,\n",
    "                marker = marker)  # or plt.scatter\n",
    "plt.legend(['0','1']);"
   ]
  },
  {
   "cell_type": "markdown",
   "metadata": {},
   "source": [
    "### 探索用户使用设备或软件 和取消服务关系\n",
    "\n",
    "结论：\n",
    "* 使用Ubuntu取消服务偏多、iPad使用人取消服务人相对较少"
   ]
  },
  {
   "cell_type": "code",
   "execution_count": 16,
   "metadata": {},
   "outputs": [],
   "source": [
    "device_count = df_pages.groupby(['deviceModel', 'Cancellation Confirmation']).size().reset_index(name='count')\n",
    "# device_counts = device_count.pivot(index='deviceModel', columns = 'Cancellation Confirmation', values='count')"
   ]
  },
  {
   "cell_type": "code",
   "execution_count": 18,
   "metadata": {},
   "outputs": [
    {
     "data": {
      "text/plain": [
       "<matplotlib.axes._subplots.AxesSubplot at 0x11db38790>"
      ]
     },
     "execution_count": 18,
     "metadata": {},
     "output_type": "execute_result"
    },
    {
     "data": {
      "image/png": "[encoded data removed]",
      "text/plain": [
       "<Figure size 1296x360 with 1 Axes>"
      ]
     },
     "metadata": {
      "needs_background": "light"
     },
     "output_type": "display_data"
    }
   ],
   "source": [
    "plt.figure(figsize=(18, 5))\n",
    "sns.barplot(data=device_count, x='deviceModel', y='count', hue='Cancellation Confirmation')"
   ]
  },
  {
   "cell_type": "markdown",
   "metadata": {},
   "source": [
    "### 取消服务和没取消服务听歌的频率对比\n",
    "\n",
    "结论\n",
    "* 取消服务的人明显听歌数量也偏少\n",
    "* 查看滚动广告越多的，越容易取消服务"
   ]
  },
  {
   "cell_type": "code",
   "execution_count": 19,
   "metadata": {},
   "outputs": [
    {
     "data": {
      "image/png": "[encoded data removed]",
      "text/plain": [
       "<Figure size 720x360 with 1 Axes>"
      ]
     },
     "metadata": {
      "needs_background": "light"
     },
     "output_type": "display_data"
    }
   ],
   "source": [
    "plt.figure(figsize=(10,5))\n",
    "cancel_type = [['0', 'o'],\n",
    "               ['1', 's']]\n",
    "for cancel, marker in cancel_type:\n",
    "    df_thumbs = df_pages[df_pages['Cancellation Confirmation'] == int(cancel)]\n",
    "    sns.regplot(data = df_thumbs, x = 'Roll Advert', \n",
    "                y = 'NextSong', \n",
    "                x_jitter=0.05,\n",
    "                y_jitter=0.05,\n",
    "                marker = marker)  # or plt.scatter\n",
    "plt.legend(['0','1']);"
   ]
  },
  {
   "cell_type": "code",
   "execution_count": 20,
   "metadata": {},
   "outputs": [
    {
     "name": "stderr",
     "output_type": "stream",
     "text": [
      "/Users/qihengshan/pythonEnv/python374/lib/python3.7/site-packages/seaborn/axisgrid.py:230: UserWarning: The `size` paramter has been renamed to `height`; please update your code.\n",
      "  warnings.warn(msg, UserWarning)\n"
     ]
    },
    {
     "data": {
      "text/plain": [
       "Text(592.1499999999999, 0.5, 'Frequency')"
      ]
     },
     "execution_count": 20,
     "metadata": {},
     "output_type": "execute_result"
    },
    {
     "data": {
      "image/png": "[encoded data removed]",
      "text/plain": [
       "<Figure size 1152x288 with 2 Axes>"
      ]
     },
     "metadata": {
      "needs_background": "light"
     },
     "output_type": "display_data"
    }
   ],
   "source": [
    "bins_edge = np.arange(0, 3000, 200)\n",
    "\n",
    "g = sns.FacetGrid(data=df_pages, \n",
    "                  col='Cancellation Confirmation', \n",
    "                  col_wrap=2,\n",
    "                 size=4, aspect=2) # 会按 '是否取消服务类型' 拆分子图\n",
    "\n",
    "# 实用FaceGrid对象的map函数.第一个参数是绘图函数plt.hist, 第二个变量要绘制的 x轴变量名 NextSong\n",
    "g.map(plt.hist, 'NextSong', bins=bins_edge);\n",
    "plt.ylabel('Frequency', fontsize=15)\n"
   ]
  },
  {
   "cell_type": "markdown",
   "metadata": {},
   "source": [
    "### 取消服务和没取消服务查看广告的频率对比\n",
    "\n",
    "结论\n",
    "* 取消服务的人明显查看广告的数量也偏少"
   ]
  },
  {
   "cell_type": "code",
   "execution_count": 21,
   "metadata": {},
   "outputs": [
    {
     "data": {
      "text/plain": [
       "Text(592.1499999999999, 0.5, 'Frequency')"
      ]
     },
     "execution_count": 21,
     "metadata": {},
     "output_type": "execute_result"
    },
    {
     "data": {
      "image/png": "[encoded data removed]",
      "text/plain": [
       "<Figure size 1152x288 with 2 Axes>"
      ]
     },
     "metadata": {
      "needs_background": "light"
     },
     "output_type": "display_data"
    }
   ],
   "source": [
    "# Roll Advert\n",
    "\n",
    "bins_edge = np.arange(0, 90, 5)\n",
    "\n",
    "g = sns.FacetGrid(data=df_pages, \n",
    "                  col='Cancellation Confirmation', \n",
    "                  col_wrap=2,\n",
    "                 size=4, aspect=2) # 会按 '是否取消服务类型' 拆分子图\n",
    "\n",
    "# 实用FaceGrid对象的map函数.第一个参数是绘图函数plt.hist, 第二个变量要绘制的 x轴变量名 NextSong\n",
    "g.map(plt.hist, 'Roll Advert', bins=bins_edge);\n",
    "plt.ylabel('Frequency', fontsize=15)"
   ]
  },
  {
   "cell_type": "markdown",
   "metadata": {},
   "source": [
    "### 'Downgrade  VS  Upgrade' And 'Submit Downgrade  VS  Submit Upgrade' OVER Label (Cancel)\n",
    "\n",
    "结论\n",
    "* 根据回归曲线，越少的降级发生越好"
   ]
  },
  {
   "cell_type": "code",
   "execution_count": 22,
   "metadata": {},
   "outputs": [
    {
     "name": "stderr",
     "output_type": "stream",
     "text": [
      "/Users/qihengshan/pythonEnv/python374/lib/python3.7/site-packages/ipykernel_launcher.py:8: MatplotlibDeprecationWarning: Adding an axes using the same arguments as a previous axes currently reuses the earlier instance.  In a future version, a new instance will always be created and returned.  Meanwhile, this warning can be suppressed, and the future behavior ensured, by passing a unique label to each axes instance.\n",
      "  \n",
      "/Users/qihengshan/pythonEnv/python374/lib/python3.7/site-packages/ipykernel_launcher.py:19: MatplotlibDeprecationWarning: Adding an axes using the same arguments as a previous axes currently reuses the earlier instance.  In a future version, a new instance will always be created and returned.  Meanwhile, this warning can be suppressed, and the future behavior ensured, by passing a unique label to each axes instance.\n"
     ]
    },
    {
     "data": {
      "image/png": "[encoded data removed]",
      "text/plain": [
       "<Figure size 1296x360 with 2 Axes>"
      ]
     },
     "metadata": {
      "needs_background": "light"
     },
     "output_type": "display_data"
    }
   ],
   "source": [
    "\n",
    "plt.figure(figsize=(18,5))\n",
    "cancel_type = [['0', 'o'],\n",
    "               ['1', 's']]\n",
    "for cancel, marker in cancel_type:\n",
    "    df_subset = df_pages[df_pages['Cancellation Confirmation'] == int(cancel)]\n",
    "    \n",
    "    # first plot\n",
    "    plt.subplot(121)\n",
    "    sns.regplot(data = df_subset, x = 'Downgrade', \n",
    "                y = 'Upgrade', \n",
    "                x_jitter=0.05,\n",
    "                y_jitter=0.05,\n",
    "                marker = marker)  # or plt.scatter\n",
    "    plt.xlabel('Downgrade', fontsize=15)\n",
    "    plt.ylabel('Upgrade', fontsize=15)\n",
    "    plt.title('Downgrade  VS  Upgrade',fontsize=15);\n",
    "    plt.legend(['0','1']);\n",
    "    \n",
    "    plt.subplot(122)\n",
    "    sns.regplot(data = df_subset, x = 'Submit Downgrade', \n",
    "                y = 'Submit Upgrade', \n",
    "                x_jitter=0.05,\n",
    "                y_jitter=0.05,\n",
    "                marker = marker)  # or plt.scatter\n",
    "    plt.xlabel('Submit Downgrade', fontsize=15)\n",
    "    plt.ylabel('Submit Upgrade', fontsize=15)\n",
    "    plt.title('Submit Downgrade  VS  Submit Upgrade',fontsize=15);\n",
    "    plt.legend(['0','1']);"
   ]
  },
  {
   "cell_type": "markdown",
   "metadata": {},
   "source": [
    "### 'Thumbs Down' VS 'Thumbs Up'  And 'Add Friend' VS 'Add to Playlist' OVER Label (Cancel)\n",
    "\n",
    "结论：\n",
    "* 点赞越少的用户，越倾向于取消服务\n",
    "* 添加好友和添加歌曲少于20的用户，越可能取消服务\n",
    "* 添加好友次数越少的用户，越倾向于取消服务"
   ]
  },
  {
   "cell_type": "code",
   "execution_count": 23,
   "metadata": {},
   "outputs": [
    {
     "name": "stderr",
     "output_type": "stream",
     "text": [
      "/Users/qihengshan/pythonEnv/python374/lib/python3.7/site-packages/ipykernel_launcher.py:9: MatplotlibDeprecationWarning: Adding an axes using the same arguments as a previous axes currently reuses the earlier instance.  In a future version, a new instance will always be created and returned.  Meanwhile, this warning can be suppressed, and the future behavior ensured, by passing a unique label to each axes instance.\n",
      "  if __name__ == '__main__':\n",
      "/Users/qihengshan/pythonEnv/python374/lib/python3.7/site-packages/ipykernel_launcher.py:16: MatplotlibDeprecationWarning: Adding an axes using the same arguments as a previous axes currently reuses the earlier instance.  In a future version, a new instance will always be created and returned.  Meanwhile, this warning can be suppressed, and the future behavior ensured, by passing a unique label to each axes instance.\n",
      "  app.launch_new_instance()\n"
     ]
    },
    {
     "data": {
      "image/png": "[encoded data removed]",
      "text/plain": [
       "<Figure size 1296x360 with 2 Axes>"
      ]
     },
     "metadata": {
      "needs_background": "light"
     },
     "output_type": "display_data"
    }
   ],
   "source": [
    "plt.figure(figsize=(18,5))\n",
    "\n",
    "cancel_type = [['0', 'o'],\n",
    "               ['1', 's']]\n",
    "\n",
    "for cancel, marker in cancel_type:\n",
    "    df_subset = df_pages[df_pages['Cancellation Confirmation'] == int(cancel)]\n",
    "    # first subplot\n",
    "    plt.subplot(1,2,1);\n",
    "    sns.regplot(data=df_subset, x='Thumbs Down', y='Thumbs Up', marker = marker);  # or plt.scatter\n",
    "    plt.xlabel('Thumbs Down', fontsize=15)\n",
    "    plt.ylabel('Thumbs Up', fontsize=15)\n",
    "    plt.title('Thumbs Up  VS  Thumbs Down',fontsize=15);\n",
    "    plt.legend(['0','1']);\n",
    "    # second subplot\n",
    "    plt.subplot(1,2,2);\n",
    "    sns.regplot(data=df_subset, x='Add to Playlist', y='Add Friend', marker=marker);  # or plt.scatter\n",
    "    plt.xlabel('Add to Playlist', fontsize=15)\n",
    "    plt.ylabel('Add Friend', fontsize=15)\n",
    "    plt.title('Add to Playlist  VS  Add Friend',fontsize=15);\n",
    "    plt.legend(['0','1']);\n"
   ]
  },
  {
   "cell_type": "code",
   "execution_count": null,
   "metadata": {},
   "outputs": [],
   "source": []
  },
  {
   "cell_type": "markdown",
   "metadata": {},
   "source": [
    "### 统计过去N天用户访问page的行为，统计出取消服务的用户\n",
    "\n",
    "* 最终计算 过去 N 天内出现过的 page 行为数量 占比 (相对于访问总量)。比如: (过去N天内Cancellation Confirmation数量)/(总Cancellation Confirmation数量)"
   ]
  },
  {
   "cell_type": "code",
   "execution_count": 24,
   "metadata": {},
   "outputs": [],
   "source": [
    "def get_lastNdays_cancel_user(n, total_cancel=52.0):\n",
    "    max_value = user_log.agg({\"ts_date\": \"max\"}).collect()[0][0]\n",
    "    tmp_df = user_log.where(col(\"ts_date\") > date_sub(lit(max_value), n))\n",
    "    tmp_df_groupby = tmp_df.groupBy('userId', 'page').agg(count('page').alias('count_page')).sort('userId')\n",
    "    cancel_count = tmp_df_groupby.filter(col(\"page\") == \"Cancellation Confirmation\").count()\n",
    "    print(f\"Last {n} days log , cancel user number : {cancel_count}, Cancel_Percentage: {float(cancel_count)/total_cancel}\")\n",
    "    return n, cancel_count\n",
    "\n",
    "# N 间隔天数 新增取消服务人数画图\n",
    "def cancel_plot(n, cl):\n",
    "    minus_list = []\n",
    "    for i in range(len(cl)):\n",
    "        if i < len(cl) -1:\n",
    "            minus_list.append(cl[i+1] - cl[i])\n",
    "    print(cl)\n",
    "    pd.Series(minus_list).plot(kind='bar')\n",
    "    return minus_list"
   ]
  },
  {
   "cell_type": "markdown",
   "metadata": {},
   "source": [
    "#### 5天一周期、7天一周期查看用户流失情况"
   ]
  },
  {
   "cell_type": "code",
   "execution_count": 25,
   "metadata": {},
   "outputs": [],
   "source": [
    "def intervalNday_plot(n, max_cancel=52):\n",
    "    \"\"\"\n",
    "    INPUT:\n",
    "        n: int number. eg: 5\n",
    "    \"\"\"\n",
    "    tmp = []\n",
    "    for i in range(n, 200, n):\n",
    "        last_days, cancel_count = get_lastNdays_cancel_user(i)\n",
    "        tmp.append(cancel_count)\n",
    "        if cancel_count == max_cancel:\n",
    "            break\n",
    "    cancel_plot(n, tmp)"
   ]
  },
  {
   "cell_type": "code",
   "execution_count": 26,
   "metadata": {},
   "outputs": [
    {
     "name": "stdout",
     "output_type": "stream",
     "text": [
      "Last 5 days log , cancel user number : 1, Cancel_Percentage: 0.019230769230769232\n",
      "Last 10 days log , cancel user number : 4, Cancel_Percentage: 0.07692307692307693\n",
      "Last 15 days log , cancel user number : 7, Cancel_Percentage: 0.1346153846153846\n",
      "Last 20 days log , cancel user number : 13, Cancel_Percentage: 0.25\n",
      "Last 25 days log , cancel user number : 14, Cancel_Percentage: 0.2692307692307692\n",
      "Last 30 days log , cancel user number : 17, Cancel_Percentage: 0.3269230769230769\n",
      "Last 35 days log , cancel user number : 23, Cancel_Percentage: 0.4423076923076923\n",
      "Last 40 days log , cancel user number : 26, Cancel_Percentage: 0.5\n",
      "Last 45 days log , cancel user number : 33, Cancel_Percentage: 0.6346153846153846\n",
      "Last 50 days log , cancel user number : 41, Cancel_Percentage: 0.7884615384615384\n",
      "Last 55 days log , cancel user number : 45, Cancel_Percentage: 0.8653846153846154\n",
      "Last 60 days log , cancel user number : 50, Cancel_Percentage: 0.9615384615384616\n",
      "Last 65 days log , cancel user number : 52, Cancel_Percentage: 1.0\n",
      "[1, 4, 7, 13, 14, 17, 23, 26, 33, 41, 45, 50, 52]\n"
     ]
    },
    {
     "data": {
      "image/png": "[encoded data removed]",
      "text/plain": [
       "<Figure size 432x288 with 1 Axes>"
      ]
     },
     "metadata": {
      "needs_background": "light"
     },
     "output_type": "display_data"
    }
   ],
   "source": [
    "intervalNday_plot(5)"
   ]
  },
  {
   "cell_type": "code",
   "execution_count": 27,
   "metadata": {},
   "outputs": [
    {
     "name": "stdout",
     "output_type": "stream",
     "text": [
      "Last 7 days log , cancel user number : 1, Cancel_Percentage: 0.019230769230769232\n",
      "Last 14 days log , cancel user number : 6, Cancel_Percentage: 0.11538461538461539\n",
      "Last 21 days log , cancel user number : 13, Cancel_Percentage: 0.25\n",
      "Last 28 days log , cancel user number : 15, Cancel_Percentage: 0.28846153846153844\n",
      "Last 35 days log , cancel user number : 23, Cancel_Percentage: 0.4423076923076923\n",
      "Last 42 days log , cancel user number : 29, Cancel_Percentage: 0.5576923076923077\n",
      "Last 49 days log , cancel user number : 39, Cancel_Percentage: 0.75\n",
      "Last 56 days log , cancel user number : 47, Cancel_Percentage: 0.9038461538461539\n",
      "Last 63 days log , cancel user number : 52, Cancel_Percentage: 1.0\n",
      "[1, 6, 13, 15, 23, 29, 39, 47, 52]\n"
     ]
    },
    {
     "data": {
      "image/png": "[encoded data removed]",
      "text/plain": [
       "<Figure size 432x288 with 1 Axes>"
      ]
     },
     "metadata": {
      "needs_background": "light"
     },
     "output_type": "display_data"
    }
   ],
   "source": [
    "intervalNday_plot(7)"
   ]
  },
  {
   "cell_type": "markdown",
   "metadata": {},
   "source": [
    "### 对比结果：\n",
    "* 7天一周期看 过去28天~过去56天之间，取消服务用户最多 达到 32人 (8+6+10+8)/53 = 61.5%\n",
    "* 5天一周期看，过去的第40天~50天之间，取消服务的用户增量最多 15人（7+8）/ 52 = 28.8%\n"
   ]
  },
  {
   "cell_type": "code",
   "execution_count": null,
   "metadata": {},
   "outputs": [],
   "source": []
  },
  {
   "cell_type": "markdown",
   "metadata": {},
   "source": [
    "# 特征工程\n"
   ]
  },
  {
   "cell_type": "markdown",
   "metadata": {},
   "source": [
    "## 所有用户访问page页行为汇总"
   ]
  },
  {
   "cell_type": "code",
   "execution_count": 28,
   "metadata": {},
   "outputs": [],
   "source": [
    "def all_user_page_data(user_log):\n",
    "    \"\"\"\n",
    "    所有时段用户访问page页行为\n",
    "    \n",
    "    INPUT:\n",
    "        user_log: spark dataframe (contain all data)\n",
    "    \n",
    "    OUTPUT:\n",
    "        user_log_groupby_pivot: page actoin to column\n",
    "        user_labels: contain userId, label （cancel or not cancel value）\n",
    "    \"\"\"\n",
    "    # group by userId,page with location and deviceModel\n",
    "    user_log_groupby = user_log.groupBy('userId', 'location', 'deviceModel', 'page') \\\n",
    "        .agg(count('page').alias('count_page')) \\\n",
    "        .sort('userId')\n",
    "    #\n",
    "    user_log_groupby.createOrReplaceTempView('user_log_groupby_table')\n",
    "    # privot : row to column for page action\n",
    "    user_log_groupby_pivot = user_log_groupby.groupBy('userId', 'location', 'deviceModel').pivot('page').max('count_page').fillna(0)\n",
    "    \n",
    "    # 提取label列\n",
    "    user_labels = user_log_groupby_pivot.select('userId', col('Cancellation Confirmation').alias('label'))\n",
    "    user_log_groupby_pivot = user_log_groupby_pivot.drop(*('Cancellation Confirmation', 'Cancel'))\n",
    "    \n",
    "    return user_log_groupby_pivot, user_labels"
   ]
  },
  {
   "cell_type": "markdown",
   "metadata": {},
   "source": [
    "### 获取过去28天到过去56天的用户行为数据\n",
    "\n",
    "28天数据包含信息如下\n",
    "* 137516行数据  (总共278154行行为数据)\n",
    "* 211名用户行为数据 (总共225名用户，清理Null后)\n",
    "* 32名取消服务用户 (总共取消服务用户52名)"
   ]
  },
  {
   "cell_type": "code",
   "execution_count": 39,
   "metadata": {},
   "outputs": [],
   "source": [
    "def subset_user_page_data(user_log, start=56, end = 28):\n",
    "    max_value = user_log.agg({\"ts_date\": \"max\"}).collect()[0][0]\n",
    "    # 28days56 count() = 46978, cancel user: 15\n",
    "    user_log_28days56 = user_log.where( col(\"ts_date\") >= date_sub(lit(max_value), start)).where(col(\"ts_date\") <= date_sub(lit(max_value), end) )\n",
    "\n",
    "    # last 28~56 days page action  group by userId, page\n",
    "    user_log_28days56_groupby = user_log_28days56.groupBy('userId', 'page') \\\n",
    "        .agg(count('page').alias('count_page')) \\\n",
    "        .sort('userId')\n",
    "\n",
    "    user_log_28days56_groupby.createOrReplaceTempView('user_log_28days56_groupby_table')\n",
    "\n",
    "    # user_log_28days56_groupby.filter(col(\"page\") == \"Cancellation Confirmation\").count()\n",
    "    # output: 15 \n",
    "\n",
    "    # 生成page类型为列的表\n",
    "    user_log_28days56_groupby_pivot = user_log_28days56_groupby.groupBy('userId').pivot('page').max('count_page').fillna(0)\n",
    "\n",
    "    user_log_28days56_groupby_pivot = user_log_28days56_groupby_pivot.drop(*('Cancellation Confirmation', 'Cancel'))\n",
    "\n",
    "    return user_log_28days56_groupby, user_log_28days56_groupby_pivot\n"
   ]
  },
  {
   "cell_type": "markdown",
   "metadata": {},
   "source": [
    "### 替换列名空格为下划线\n",
    "\n",
    "* user_log_groupby_pivot 列名中的空格替换成 '_'\n",
    "* user_log_28days56_groupby_pivot 列名中的空格替换成 '_'，每个列名添加'_28_56'后缀"
   ]
  },
  {
   "cell_type": "code",
   "execution_count": 31,
   "metadata": {},
   "outputs": [],
   "source": [
    "user_log_groupby_pivot, user_labels = all_user_page_data(user_log)\n",
    "user_log_28days56_groupby, user_log_28days56_groupby_pivot = subset_user_page_data(user_log, start=56, end = 28)"
   ]
  },
  {
   "cell_type": "code",
   "execution_count": 32,
   "metadata": {},
   "outputs": [],
   "source": [
    "tmpCol1 = list(map(lambda x: x.replace(\" \", \"_\"), user_log_groupby_pivot.columns))\n",
    "tmpCol2 = list(map(lambda x: x.replace(\" \", \"_\") + \"_28_56\", user_log_28days56_groupby_pivot.columns))\n",
    "# df = df.toDF(*new_column_name_list)\n",
    "user_log_groupby_pivot = user_log_groupby_pivot.toDF(*tmpCol1)\n",
    "user_log_28days56_groupby_pivot = user_log_28days56_groupby_pivot.toDF(*tmpCol2)"
   ]
  },
  {
   "cell_type": "markdown",
   "metadata": {},
   "source": [
    "### 用户注册时长统计（单位：天）"
   ]
  },
  {
   "cell_type": "code",
   "execution_count": 33,
   "metadata": {},
   "outputs": [],
   "source": [
    "user_use_time = spark.sql(\"\"\"\n",
    "        select userId,\n",
    "            round((max(ts)/1000 - min(registration)/1000)/(24*3600)) as useTime \n",
    "            from user_log_table group by userId\n",
    "        \"\"\")"
   ]
  },
  {
   "cell_type": "code",
   "execution_count": null,
   "metadata": {},
   "outputs": [],
   "source": []
  },
  {
   "cell_type": "code",
   "execution_count": null,
   "metadata": {},
   "outputs": [],
   "source": []
  },
  {
   "cell_type": "markdown",
   "metadata": {},
   "source": [
    "### 标准化数据\n",
    "相同的标准，标准化数据\n",
    "* user_log_groupby_pivot, user_log_28days56_groupby_pivot 合并后的除去 (userId, userId_28_56, location, deviceModel)的列"
   ]
  },
  {
   "cell_type": "markdown",
   "metadata": {},
   "source": [
    "#### user_log_groupby_pivot"
   ]
  },
  {
   "cell_type": "code",
   "execution_count": 34,
   "metadata": {},
   "outputs": [
    {
     "name": "stdout",
     "output_type": "stream",
     "text": [
      "column: About scaled done.\n",
      "column: Add_Friend scaled done.\n",
      "column: Add_to_Playlist scaled done.\n",
      "column: Downgrade scaled done.\n",
      "column: Error scaled done.\n",
      "column: Help scaled done.\n",
      "column: Home scaled done.\n",
      "column: Logout scaled done.\n",
      "column: NextSong scaled done.\n",
      "column: Roll_Advert scaled done.\n",
      "column: Save_Settings scaled done.\n",
      "column: Settings scaled done.\n",
      "column: Submit_Downgrade scaled done.\n",
      "column: Submit_Upgrade scaled done.\n",
      "column: Thumbs_Down scaled done.\n",
      "column: Thumbs_Up scaled done.\n",
      "column: Upgrade scaled done.\n",
      "After Scaling :\n",
      "+------+----------+-----------+------------+-----------------+----------------------+----------------+------------+-----------+-----------+-------------+---------------+------------------+--------------------+---------------+-----------------------+---------------------+------------------+----------------+--------------+\n",
      "|userId|  location|deviceModel|About_Scaled|Add_Friend_Scaled|Add_to_Playlist_Scaled|Downgrade_Scaled|Error_Scaled|Help_Scaled|Home_Scaled|Logout_Scaled|NextSong_Scaled|Roll_Advert_Scaled|Save_Settings_Scaled|Settings_Scaled|Submit_Downgrade_Scaled|Submit_Upgrade_Scaled|Thumbs_Down_Scaled|Thumbs_Up_Scaled|Upgrade_Scaled|\n",
      "+------+----------+-----------+------------+-----------------+----------------------+----------------+------------+-----------+-----------+-------------+---------------+------------------+--------------------+---------------+-----------------------+---------------------+------------------+----------------+--------------+\n",
      "|    10|Laurel, MS|     Chrome|        0.08|         0.083916|                0.0375|         0.09589|         0.0|   0.021739|   0.084507|      0.08871|        0.08376|          0.007812|                 0.1|       0.134615|                    0.0|                  0.0|          0.053333|        0.084668|           0.0|\n",
      "+------+----------+-----------+------------+-----------------+----------------------+----------------+------------+-----------+-----------+-------------+---------------+------------------+--------------------+---------------+-----------------------+---------------------+------------------+----------------+--------------+\n",
      "only showing top 1 row\n",
      "\n"
     ]
    }
   ],
   "source": [
    "cols = user_log_groupby_pivot.columns\n",
    "cols.remove('userId')\n",
    "cols.remove('location')\n",
    "cols.remove('deviceModel')\n",
    "\n",
    "# UDF for converting column type from vector to double type\n",
    "unlist = udf(lambda x: round(float(list(x)[0]),6), DoubleType())\n",
    "\n",
    "# Iterating over columns to be scaled\n",
    "for i in cols:\n",
    "    # VectorAssembler Transformation - Converting column to vector type\n",
    "    assembler = VectorAssembler(inputCols=[i],outputCol=i+\"_Vect\")\n",
    "\n",
    "    # MinMaxScaler Transformation\n",
    "    scaler = MinMaxScaler(inputCol=i+\"_Vect\", outputCol=i+\"_Scaled\")\n",
    "\n",
    "    # Pipeline of VectorAssembler and MinMaxScaler\n",
    "    pipeline = Pipeline(stages=[assembler, scaler])\n",
    "\n",
    "    # Fitting pipeline on dataframe\n",
    "    user_log_groupby_pivot = pipeline.fit(user_log_groupby_pivot) \\\n",
    "            .transform(user_log_groupby_pivot) \\\n",
    "            .withColumn(i+\"_Scaled\", unlist(i+\"_Scaled\")) \\\n",
    "            .drop(*(i, i+\"_Vect\"))  # 保留原始i列 和i+\"_28_56\"列 .drop( *(i, i+\"_Vect\", i+\"_28_56\") )\n",
    "    print(f\"column: {i} scaled done.\")\n",
    "\n",
    "print(\"After Scaling :\")\n",
    "user_log_groupby_pivot.show(1)"
   ]
  },
  {
   "cell_type": "markdown",
   "metadata": {},
   "source": [
    "#### user_log_28days56_groupby_pivot"
   ]
  },
  {
   "cell_type": "code",
   "execution_count": 35,
   "metadata": {},
   "outputs": [
    {
     "name": "stdout",
     "output_type": "stream",
     "text": [
      "column: About_28_56 scaled done.\n",
      "column: Add_Friend_28_56 scaled done.\n",
      "column: Add_to_Playlist_28_56 scaled done.\n",
      "column: Downgrade_28_56 scaled done.\n",
      "column: Error_28_56 scaled done.\n",
      "column: Help_28_56 scaled done.\n",
      "column: Home_28_56 scaled done.\n",
      "column: Logout_28_56 scaled done.\n",
      "column: NextSong_28_56 scaled done.\n",
      "column: Roll_Advert_28_56 scaled done.\n",
      "column: Save_Settings_28_56 scaled done.\n",
      "column: Settings_28_56 scaled done.\n",
      "column: Submit_Downgrade_28_56 scaled done.\n",
      "column: Submit_Upgrade_28_56 scaled done.\n",
      "column: Thumbs_Down_28_56 scaled done.\n",
      "column: Thumbs_Up_28_56 scaled done.\n",
      "column: Upgrade_28_56 scaled done.\n",
      "After Scaling :\n",
      "+------------+------------------+-----------------------+----------------------------+----------------------+------------------+-----------------+-----------------+-------------------+---------------------+------------------------+--------------------------+---------------------+-----------------------------+---------------------------+------------------------+----------------------+--------------------+\n",
      "|userId_28_56|About_28_56_Scaled|Add_Friend_28_56_Scaled|Add_to_Playlist_28_56_Scaled|Downgrade_28_56_Scaled|Error_28_56_Scaled|Help_28_56_Scaled|Home_28_56_Scaled|Logout_28_56_Scaled|NextSong_28_56_Scaled|Roll_Advert_28_56_Scaled|Save_Settings_28_56_Scaled|Settings_28_56_Scaled|Submit_Downgrade_28_56_Scaled|Submit_Upgrade_28_56_Scaled|Thumbs_Down_28_56_Scaled|Thumbs_Up_28_56_Scaled|Upgrade_28_56_Scaled|\n",
      "+------------+------------------+-----------------------+----------------------------+----------------------+------------------+-----------------+-----------------+-------------------+---------------------+------------------------+--------------------------+---------------------+-----------------------------+---------------------------+------------------------+----------------------+--------------------+\n",
      "|          10|          0.181818|               0.131579|                    0.047337|              0.074074|               0.0|         0.038462|            0.125|           0.111111|             0.102999|                     0.0|                  0.166667|                 0.25|                          0.0|                        0.0|                0.086957|              0.129412|                 0.0|\n",
      "+------------+------------------+-----------------------+----------------------------+----------------------+------------------+-----------------+-----------------+-------------------+---------------------+------------------------+--------------------------+---------------------+-----------------------------+---------------------------+------------------------+----------------------+--------------------+\n",
      "only showing top 1 row\n",
      "\n"
     ]
    }
   ],
   "source": [
    "columns = user_log_28days56_groupby_pivot.columns\n",
    "columns.remove('userId_28_56')\n",
    "\n",
    "# UDF for converting column type from vector to double type\n",
    "unlist = udf(lambda x: round(float(list(x)[0]),6), DoubleType())\n",
    "\n",
    "# Iterating over columns to be scaled\n",
    "for i in columns:\n",
    "    # VectorAssembler Transformation - Converting column to vector type\n",
    "    assembler = VectorAssembler(inputCols=[i],outputCol=i+\"_Vect\")\n",
    "\n",
    "    # MinMaxScaler Transformation\n",
    "    scaler = MinMaxScaler(inputCol=i+\"_Vect\", outputCol=i+\"_Scaled\")\n",
    "\n",
    "    # Pipeline of VectorAssembler and MinMaxScaler\n",
    "    pipeline = Pipeline(stages=[assembler, scaler])\n",
    "\n",
    "    # Fitting pipeline on dataframe\n",
    "    user_log_28days56_groupby_pivot = pipeline.fit(user_log_28days56_groupby_pivot) \\\n",
    "            .transform(user_log_28days56_groupby_pivot) \\\n",
    "            .withColumn(i+\"_Scaled\", unlist(i+\"_Scaled\")) \\\n",
    "            .drop(*(i, i+\"_Vect\"))  # 保留原始i列 和i+\"_28_56\"列 .drop( *(i, i+\"_Vect\", i+\"_28_56\") )\n",
    "    print(f\"column: {i} scaled done.\")\n",
    "\n",
    "print(\"After Scaling :\")\n",
    "user_log_28days56_groupby_pivot.show(1)"
   ]
  },
  {
   "cell_type": "markdown",
   "metadata": {},
   "source": [
    "#### user_use_time"
   ]
  },
  {
   "cell_type": "code",
   "execution_count": 36,
   "metadata": {},
   "outputs": [
    {
     "name": "stdout",
     "output_type": "stream",
     "text": [
      "After Scaling :\n",
      "+------+--------------+\n",
      "|userId|useTime_Scaled|\n",
      "+------+--------------+\n",
      "|100010|       0.21875|\n",
      "+------+--------------+\n",
      "only showing top 1 row\n",
      "\n"
     ]
    }
   ],
   "source": [
    "# VectorAssembler Transformation - Converting column to vector type\n",
    "i = 'useTime'\n",
    "assembler = VectorAssembler(inputCols=[i],outputCol=i+\"_Vect\")\n",
    "\n",
    "# MinMaxScaler Transformation\n",
    "scaler = MinMaxScaler(inputCol=i+\"_Vect\", outputCol=i+\"_Scaled\")\n",
    "\n",
    "# Pipeline of VectorAssembler and MinMaxScaler\n",
    "pipeline = Pipeline(stages=[assembler, scaler])\n",
    "\n",
    "# Fitting pipeline on dataframe\n",
    "user_use_time = pipeline.fit(user_use_time) \\\n",
    "        .transform(user_use_time) \\\n",
    "        .withColumn(i+\"_Scaled\", unlist(i+\"_Scaled\")) \\\n",
    "        .drop( *(i, i+\"_Vect\") )  # 保留原始i列 和i+\"_28_56\"列 .drop( *(i, i+\"_Vect\", i+\"_28_56\") )\n",
    "\n",
    "print(\"After Scaling :\")\n",
    "user_use_time.show(1)"
   ]
  },
  {
   "cell_type": "markdown",
   "metadata": {},
   "source": [
    "#### 连接dataframe\n",
    "user_log_groupby_pivot 、user_log_28days56_groupby_pivot、user_use_time"
   ]
  },
  {
   "cell_type": "code",
   "execution_count": 37,
   "metadata": {},
   "outputs": [],
   "source": [
    "user_page_pivot = user_log_groupby_pivot.join(user_log_28days56_groupby_pivot, \n",
    "                                              user_log_groupby_pivot.userId == user_log_28days56_groupby_pivot.userId_28_56) # how='inner'\n",
    "user_page_pivot = user_page_pivot.join(user_use_time, on=['userId']).drop('userId_28_56')"
   ]
  },
  {
   "cell_type": "code",
   "execution_count": null,
   "metadata": {},
   "outputs": [],
   "source": []
  },
  {
   "cell_type": "code",
   "execution_count": null,
   "metadata": {},
   "outputs": [],
   "source": []
  },
  {
   "cell_type": "markdown",
   "metadata": {},
   "source": [
    "## 过去28天至过去56天列对全数据量占比统计"
   ]
  },
  {
   "cell_type": "code",
   "execution_count": 41,
   "metadata": {},
   "outputs": [
    {
     "name": "stdout",
     "output_type": "stream",
     "text": [
      "column: About_28_56 scaled done. MaxValue: 25, MinValue: 0 \n",
      "column: Add_Friend_28_56 scaled done. MaxValue: 143, MinValue: 0 \n",
      "column: Add_to_Playlist_28_56 scaled done. MaxValue: 240, MinValue: 0 \n",
      "column: Downgrade_28_56 scaled done. MaxValue: 73, MinValue: 0 \n",
      "column: Error_28_56 scaled done. MaxValue: 7, MinValue: 0 \n",
      "column: Help_28_56 scaled done. MaxValue: 46, MinValue: 0 \n",
      "column: Home_28_56 scaled done. MaxValue: 355, MinValue: 0 \n",
      "column: Logout_28_56 scaled done. MaxValue: 124, MinValue: 0 \n",
      "column: NextSong_28_56 scaled done. MaxValue: 8002, MinValue: 8 \n",
      "column: Roll_Advert_28_56 scaled done. MaxValue: 128, MinValue: 0 \n",
      "column: Save_Settings_28_56 scaled done. MaxValue: 10, MinValue: 0 \n",
      "column: Settings_28_56 scaled done. MaxValue: 52, MinValue: 0 \n",
      "column: Submit_Downgrade_28_56 scaled done. MaxValue: 3, MinValue: 0 \n",
      "column: Submit_Upgrade_28_56 scaled done. MaxValue: 4, MinValue: 0 \n",
      "column: Thumbs_Down_28_56 scaled done. MaxValue: 75, MinValue: 0 \n",
      "column: Thumbs_Up_28_56 scaled done. MaxValue: 437, MinValue: 0 \n",
      "column: Upgrade_28_56 scaled done. MaxValue: 15, MinValue: 0 \n",
      "After Scaling :\n",
      "+------+---------------+--------------------+-------------------------+-------------------+---------------+--------------+--------------+----------------+------------------+---------------------+-----------------------+------------------+--------------------------+------------------------+---------------------+-------------------+-----------------+\n",
      "|userId|About_28_56_Pct|Add_Friend_28_56_Pct|Add_to_Playlist_28_56_Pct|Downgrade_28_56_Pct|Error_28_56_Pct|Help_28_56_Pct|Home_28_56_Pct|Logout_28_56_Pct|NextSong_28_56_Pct|Roll_Advert_28_56_Pct|Save_Settings_28_56_Pct|Settings_28_56_Pct|Submit_Downgrade_28_56_Pct|Submit_Upgrade_28_56_Pct|Thumbs_Down_28_56_Pct|Thumbs_Up_28_56_Pct|Upgrade_28_56_Pct|\n",
      "+------+---------------+--------------------+-------------------------+-------------------+---------------+--------------+--------------+----------------+------------------+---------------------+-----------------------+------------------+--------------------------+------------------------+---------------------+-------------------+-----------------+\n",
      "|    10|           0.08|             0.06993|                 0.033333|           0.054795|            0.0|      0.021739|      0.067606|        0.056452|          0.064298|                  0.0|                    0.1|          0.115385|                       0.0|                     0.0|             0.053333|           0.075515|              0.0|\n",
      "+------+---------------+--------------------+-------------------------+-------------------+---------------+--------------+--------------+----------------+------------------+---------------------+-----------------------+------------------+--------------------------+------------------------+---------------------+-------------------+-----------------+\n",
      "only showing top 1 row\n",
      "\n"
     ]
    }
   ],
   "source": [
    "# 生成page类型为列的表\n",
    "user_log_groupby_pivot_tmp = user_log_groupby \\\n",
    "    .groupBy('userId', 'location', 'deviceModel') \\\n",
    "    .pivot('page').max('count_page').fillna(0)\n",
    "\n",
    "user_log_28days56_groupby_pivot_tmp = user_log_28days56_groupby \\\n",
    "    .groupBy('userId') \\\n",
    "    .pivot('page').max('count_page').fillna(0)\n",
    "# rename column name\n",
    "user_log_groupby_pivot_tmp = user_log_groupby_pivot_tmp \\\n",
    "    .drop(*('Cancel', 'Cancellation Confirmation')) \\\n",
    "    .toDF(*tmpCol1)\n",
    "user_log_28days56_groupby_pivot_tmp = user_log_28days56_groupby_pivot_tmp \\\n",
    "    .drop(*('Cancel', 'Cancellation Confirmation')) \\\n",
    "    .toDF(*tmpCol2)\n",
    "\n",
    "# 连接 dataframe 连接后: \n",
    "user_page_pivot_tmp = user_log_groupby_pivot_tmp.join(\n",
    "    user_log_28days56_groupby_pivot_tmp, \n",
    "    user_log_groupby_pivot_tmp.userId == user_log_28days56_groupby_pivot_tmp.userId_28_56) # how='full_outer'\n",
    "\n",
    "user_page_pivot_tmp = user_page_pivot_tmp.drop('userId_28_56', 'location', 'deviceModel')\n",
    "\n",
    "# normal data\n",
    "new_cols = user_log_28days56_groupby_pivot_tmp.columns\n",
    "new_cols.remove('userId_28_56')\n",
    "# Iterating over columns to be scaled\n",
    "for c in new_cols:\n",
    "    init_col = c[:-6]\n",
    "    cMaxValue = user_page_pivot_tmp.agg({init_col: \"max\"}).collect()[0][0]\n",
    "    cMinValue = user_page_pivot_tmp.agg({init_col: \"min\"}).collect()[0][0]\n",
    "    \n",
    "    # tmpCol1 = list(map(lambda x: x.replace(\" \", \"_\"), user_log_groupby_pivot.columns))\n",
    "    doNormal = udf(lambda x: round(float(x-cMinValue)/float(cMaxValue-cMinValue),6), DoubleType())\n",
    "    \n",
    "    user_page_pivot_tmp = user_page_pivot_tmp.withColumn(c+\"_Pct\", doNormal(c)).drop(*(init_col, c))\n",
    "    print(f\"column: {c} scaled done. MaxValue: {cMaxValue}, MinValue: {cMinValue} \")\n",
    "\n",
    "print(\"After Scaling :\")\n",
    "user_page_pivot_tmp.show(1)"
   ]
  },
  {
   "cell_type": "code",
   "execution_count": 42,
   "metadata": {},
   "outputs": [],
   "source": [
    "user_page_pivot_all = user_page_pivot.join(user_page_pivot_tmp, on=['userId'])"
   ]
  },
  {
   "cell_type": "markdown",
   "metadata": {},
   "source": [
    "## one-hot 设备信息 和 位置列\n",
    "\n",
    "* location\n",
    "* deviceModel"
   ]
  },
  {
   "cell_type": "code",
   "execution_count": 43,
   "metadata": {},
   "outputs": [
    {
     "name": "stdout",
     "output_type": "stream",
     "text": [
      "+----------------+--------------+\n",
      "|     locationVec|deviceModelVec|\n",
      "+----------------+--------------+\n",
      "|(109,[25],[1.0])| (6,[3],[1.0])|\n",
      "| (109,[5],[1.0])| (6,[3],[1.0])|\n",
      "|(109,[74],[1.0])| (6,[0],[1.0])|\n",
      "|(109,[46],[1.0])| (6,[0],[1.0])|\n",
      "|(109,[71],[1.0])| (6,[0],[1.0])|\n",
      "+----------------+--------------+\n",
      "only showing top 5 rows\n",
      "\n"
     ]
    }
   ],
   "source": [
    "from pyspark.ml.feature import StringIndexer, OneHotEncoderEstimator\n",
    "\n",
    "# StringIndexes first\n",
    "stringIndexer = [StringIndexer(inputCol=column, outputCol=column+\"Idx\").fit(user_page_pivot_all) for column in [\"location\", \"deviceModel\"] ]\n",
    "pipeline = Pipeline(stages=stringIndexer)\n",
    "df_user_page = pipeline.fit(user_page_pivot_all).transform(user_page_pivot_all)\n",
    "\n",
    "# OneHot\n",
    "encoder = OneHotEncoderEstimator(inputCols=[\"locationIdx\", \"deviceModelIdx\"], \n",
    "                        outputCols=[\"locationVec\", \"deviceModelVec\"])\n",
    "model = encoder.fit(df_user_page)\n",
    "df_user_page = model.transform(df_user_page)\n",
    "# drop old col\n",
    "df_user_page = df_user_page.drop(*(\"location\", \"deviceModel\", \"locationIdx\", \"deviceModelIdx\"))\n",
    "df_user_page.select(\"locationVec\", \"deviceModelVec\").show(5)"
   ]
  },
  {
   "cell_type": "markdown",
   "metadata": {},
   "source": [
    "# 建模\n",
    "将完整数据集分成训练集、测试集和验证集。测试几种机器学习方法。评价不同机器学习方法的准确率，根据情况调节参数。根据准确率挑选出表现最好的模型。因为流失顾客数据集很小，建议选用 F1 score 作为优化指标。"
   ]
  },
  {
   "cell_type": "markdown",
   "metadata": {},
   "source": [
    "### 合并features和label"
   ]
  },
  {
   "cell_type": "code",
   "execution_count": 45,
   "metadata": {},
   "outputs": [],
   "source": [
    "df_user_page = df_user_page.join(user_labels, on=['userId'])"
   ]
  },
  {
   "cell_type": "code",
   "execution_count": 46,
   "metadata": {},
   "outputs": [],
   "source": [
    "feature_cols = df_user_page.columns\n",
    "feature_cols.remove('userId')\n",
    "feature_cols.remove('label')"
   ]
  },
  {
   "cell_type": "markdown",
   "metadata": {},
   "source": [
    "### 合并特征列为 features 向量"
   ]
  },
  {
   "cell_type": "code",
   "execution_count": 47,
   "metadata": {},
   "outputs": [
    {
     "name": "stdout",
     "output_type": "stream",
     "text": [
      "+-----------------------------------------------------------------------------------------------------------------------------------------------------------------------------------------------------------------------------------------------------------------------------------------------------------------------------------------------------------------------------------------------------------------------------------------------------------------------------------------------------------------------+-----+\n",
      "|features                                                                                                                                                                                                                                                                                                                                                                                                                                                                                                               |label|\n",
      "+-----------------------------------------------------------------------------------------------------------------------------------------------------------------------------------------------------------------------------------------------------------------------------------------------------------------------------------------------------------------------------------------------------------------------------------------------------------------------------------------------------------------------+-----+\n",
      "|(167,[0,1,2,5,6,7,8,9,14,15,16,18,19,22,23,24,25,26,31,32,33,34,36,37,40,41,42,43,44,49,50,51,77,164],[0.04,0.027972,0.029167,0.043478,0.030986,0.040323,0.034004,0.40625,0.066667,0.038902,0.133333,0.039474,0.011834,0.038462,0.03125,0.031746,0.023678,0.488889,0.021739,0.023529,0.090909,0.21875,0.020979,0.008333,0.021739,0.016901,0.016129,0.014011,0.171875,0.013333,0.01373,0.066667,1.0,1.0])                                                                                                               |0    |\n",
      "|(167,[0,1,2,3,5,6,7,8,9,11,13,14,15,16,17,18,19,20,22,23,24,25,26,28,30,31,32,33,34,35,36,37,38,40,41,42,43,44,46,48,49,50,51,57,164],[0.12,0.027972,0.033333,0.068493,0.043478,0.056338,0.040323,0.048006,0.054688,0.057692,0.25,0.08,0.048055,0.133333,0.090909,0.026316,0.029586,0.055556,0.038462,0.0625,0.031746,0.047948,0.088889,0.083333,0.333333,0.130435,0.05098,0.181818,0.273438,0.04,0.013986,0.020833,0.041096,0.021739,0.033803,0.016129,0.029397,0.03125,0.038462,0.25,0.08,0.029748,0.133333,1.0,1.0])|0    |\n",
      "+-----------------------------------------------------------------------------------------------------------------------------------------------------------------------------------------------------------------------------------------------------------------------------------------------------------------------------------------------------------------------------------------------------------------------------------------------------------------------------------------------------------------------+-----+\n",
      "only showing top 2 rows\n",
      "\n"
     ]
    }
   ],
   "source": [
    "assembler = VectorAssembler(\n",
    "    inputCols=feature_cols,\n",
    "    outputCol=\"features\")\n",
    "\n",
    "df_user_page = assembler.transform(df_user_page)\n",
    "df_user_page.select(\"features\", \"label\").show(2, truncate=False)"
   ]
  },
  {
   "cell_type": "markdown",
   "metadata": {},
   "source": [
    "### 建模、训练模型、预测准确率"
   ]
  },
  {
   "cell_type": "code",
   "execution_count": 48,
   "metadata": {},
   "outputs": [
    {
     "name": "stdout",
     "output_type": "stream",
     "text": [
      "+----------+------------+--------------------+\n",
      "|prediction|indexedLabel|            features|\n",
      "+----------+------------+--------------------+\n",
      "|       0.0|         0.0|(167,[0,1,2,5,6,7...|\n",
      "|       1.0|         0.0|(167,[0,1,2,3,4,5...|\n",
      "|       0.0|         1.0|(167,[1,2,3,5,6,7...|\n",
      "|       1.0|         0.0|(167,[1,2,5,6,7,8...|\n",
      "|       0.0|         0.0|(167,[0,1,2,3,4,5...|\n",
      "+----------+------------+--------------------+\n",
      "only showing top 5 rows\n",
      "\n",
      "f1 score: 0.7262626262626263\n"
     ]
    }
   ],
   "source": [
    "from pyspark.ml import Pipeline\n",
    "from pyspark.ml.classification import GBTClassifier\n",
    "from pyspark.ml.feature import StringIndexer, VectorIndexer\n",
    "from pyspark.ml.evaluation import MulticlassClassificationEvaluator\n",
    "\n",
    "# Load and parse the data file, converting it to a DataFrame.\n",
    "# data = sqlContext.read.format(\"libsvm\").load(\"data/mllib/sample_libsvm_data.txt\")\n",
    "\n",
    "# Index labels, adding metadata to the label column.\n",
    "# Fit on whole dataset to include all labels in index.\n",
    "labelIndexer = StringIndexer(inputCol=\"label\", outputCol=\"indexedLabel\").fit(df_user_page)\n",
    "# Automatically identify categorical features, and index them.\n",
    "# Set maxCategories so features with > 4 distinct values are treated as continuous.\n",
    "featureIndexer =\\\n",
    "    VectorIndexer(inputCol=\"features\", outputCol=\"indexedFeatures\", maxCategories=4).fit(df_user_page)\n",
    "\n",
    "# Split the data into training and test sets (30% held out for testing)\n",
    "(trainingData, testData) = df_user_page.randomSplit([0.8, 0.2])\n",
    "\n",
    "# Train a GBT model.\n",
    "gbt = GBTClassifier(labelCol=\"indexedLabel\", featuresCol=\"indexedFeatures\", maxIter=20, stepSize=0.01)\n",
    "\n",
    "# Chain indexers and GBT in a Pipeline\n",
    "pipeline = Pipeline(stages=[labelIndexer, featureIndexer, gbt])\n",
    "\n",
    "# Train model.  This also runs the indexers.\n",
    "model = pipeline.fit(trainingData)\n",
    "\n",
    "# Make predictions.\n",
    "predictions = model.transform(testData)\n",
    "\n",
    "# Select example rows to display.\n",
    "predictions.select(\"prediction\", \"indexedLabel\", \"features\").show(5)\n",
    "\n",
    "# Select (prediction, true label) and compute test error # (f1|weightedPrecision|weightedRecall|accuracy)\n",
    "evaluator = MulticlassClassificationEvaluator(\n",
    "    labelCol=\"indexedLabel\", predictionCol=\"prediction\", metricName=\"f1\")  # F1  accuracy\n",
    "f1_score = evaluator.evaluate(predictions)\n",
    "\n",
    "print(f\"f1 score: {f1_score}\")\n",
    "\n",
    "# accuracy = evaluator.evaluate(predictions)\n",
    "# print(\"Test Error = %g\" % (1.0 - accuracy))\n",
    "# gbtModel = model.stages[2]\n",
    "# print(gbtModel)  # summary only"
   ]
  },
  {
   "cell_type": "code",
   "execution_count": 50,
   "metadata": {},
   "outputs": [
    {
     "name": "stdout",
     "output_type": "stream",
     "text": [
      "accuracy : 0.7333333333333333\n"
     ]
    }
   ],
   "source": [
    "evaluator = MulticlassClassificationEvaluator(\n",
    "    labelCol=\"indexedLabel\", predictionCol=\"prediction\", metricName=\"accuracy\")  # F1  accuracy\n",
    "accuracy = evaluator.evaluate(predictions)\n",
    "print(f\"accuracy : {accuracy}\")"
   ]
  },
  {
   "cell_type": "code",
   "execution_count": 49,
   "metadata": {},
   "outputs": [
    {
     "data": {
      "text/plain": [
       "0.7262626262626263"
      ]
     },
     "execution_count": 49,
     "metadata": {},
     "output_type": "execute_result"
    }
   ],
   "source": [
    "evaluator = MulticlassClassificationEvaluator(\n",
    "    labelCol=\"indexedLabel\", predictionCol=\"prediction\", metricName=\"f1\")  # F1  accuracy\n",
    "f1_score = evaluator.evaluate(predictions)\n",
    "f1_score"
   ]
  },
  {
   "cell_type": "code",
   "execution_count": 51,
   "metadata": {},
   "outputs": [],
   "source": [
    "model.save(\"./trained_model_f1_72_ac_73.mdl\")\n",
    "# path = tempfile.mkdtemp()\n",
    "# >>> lrm.save(sc, path)\n",
    "# >>> sameModel = LogisticRegressionModel.load(sc, path)"
   ]
  },
  {
   "cell_type": "markdown",
   "metadata": {},
   "source": [
    "# 结论"
   ]
  },
  {
   "cell_type": "markdown",
   "metadata": {},
   "source": [
    "## 反思\n",
    "\n",
    "经过数据清洗、数据探索、新特征创建、建模、模型评估，最终可以根据用户的行为，提前预测到用户是否会取消服务，可以提前给将要取消服务的用户打折优惠，以留住这些用户。然后改进产品，增加用户粘性，从而打造一个成功的产品。\n",
    "\n",
    "整个流程最喜欢的部分是：探索的可视化、建模 部分。可视化可以发现特征之间潜在的规律；建模则可以利用这些规律做出预测。"
   ]
  },
  {
   "cell_type": "markdown",
   "metadata": {},
   "source": [
    "## 模型改进\n",
    "\n",
    "### f1 score得分较低原因分析\n",
    "* 数据样本较少\n",
    "* 特征提取不够精细\n",
    "* 未使用Kfold交叉检验\n",
    "* 未调参\n"
   ]
  },
  {
   "cell_type": "code",
   "execution_count": null,
   "metadata": {},
   "outputs": [],
   "source": []
  }
 ],
 "metadata": {
  "kernelspec": {
   "display_name": "Python 3",
   "language": "python",
   "name": "python3"
  },
  "language_info": {
   "codemirror_mode": {
    "name": "ipython",
    "version": 3
   },
   "file_extension": ".py",
   "mimetype": "text/x-python",
   "name": "python",
   "nbconvert_exporter": "python",
   "pygments_lexer": "ipython3",
   "version": "3.7.4"
  }
 },
 "nbformat": 4,
 "nbformat_minor": 2
}
